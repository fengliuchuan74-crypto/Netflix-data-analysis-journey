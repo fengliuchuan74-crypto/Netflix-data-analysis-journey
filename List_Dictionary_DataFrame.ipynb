{
 "cells": [
  {
   "cell_type": "code",
   "execution_count": 1,
   "id": "238a6d72-dd47-4871-985d-0af988e1b3e6",
   "metadata": {},
   "outputs": [
    {
     "name": "stdout",
     "output_type": "stream",
     "text": [
      "这是一个电影评分列表: [8.8, 9.0, 8.5, 9.0]\n",
      "这是一个导演列表: ['Kirsten Johnson', 'Ruben Fleischer', 'Peter Hewitt']\n",
      "第一个导演是: Kirsten Johnson\n"
     ]
    }
   ],
   "source": [
    "# 定义一个存储电影评分的列表\n",
    "ratings = [8.8, 9.0, 8.5, 9.0] # 里面可以有重复的元素\n",
    "\n",
    "# 定义一个存储导演名字的列表\n",
    "directors = [\"Kirsten Johnson\", \"Ruben Fleischer\", \"Peter Hewitt\"]\n",
    "\n",
    "# 列表里也可以混着放不同类型的数据（虽然不常见）\n",
    "mixed_list = [\"Forrest Gump\", 1994, 8.8]\n",
    "\n",
    "print(f\"这是一个电影评分列表: {ratings}\")\n",
    "print(f\"这是一个导演列表: {directors}\")\n",
    "\n",
    "# 我们可以通过索引（从0开始）来获取列表中的元素\n",
    "print(f\"第一个导演是: {directors[0]}\")"
   ]
  },
  {
   "cell_type": "code",
   "execution_count": 2,
   "id": "8bb4075f-3ac7-493f-8aa8-06bb57166cad",
   "metadata": {},
   "outputs": [
    {
     "name": "stdout",
     "output_type": "stream",
     "text": [
      "这是一个电影信息字典: {'title': 'Forrest Gump', 'year': 1994, 'score': 8.8}\n",
      "数字是：100\n",
      "这部电影的标题是: Forrest Gump\n",
      "这部电影的评分是: 8.8\n",
      "title\n",
      "year\n",
      "score\n",
      "dict_keys(['title', 'year', 'score'])\n",
      "电影的评分是:8.8\n",
      "电影的评分是:8.8\n",
      "None\n",
      "No\n"
     ]
    }
   ],
   "source": [
    "# 定义一个描述单部电影信息的字典\n",
    "# \"title\", \"year\", \"score\" 是键 (key)，后面的具体内容是值 (value)\n",
    "movie_info = {\n",
    "    \"title\": \"Forrest Gump\",\n",
    "    \"year\": 1994,\n",
    "    \"score\": 8.8\n",
    "}\n",
    "num=100\n",
    "print(f\"这是一个电影信息字典: {movie_info}\")\n",
    "\n",
    "# 我们通过“键”来获取对应的值\n",
    "print(f\"数字是：{num}\")\n",
    "print(f\"这部电影的标题是: {movie_info['title']}\")\n",
    "print(f\"这部电影的评分是: {movie_info['score']}\")\n",
    "\n",
    "#注意！！！使用格式化字符串f时,对于引用的变量要加{}花括号！！!\n",
    "#对字典中Key的引用:  字典['Key']\n",
    "\n",
    "\n",
    "#循环打印字典中的key\n",
    "for key in movie_info:\n",
    "    print(key)\n",
    "\n",
    "#直接打印出字典中所有的key   ——   .keys()函数\n",
    "key_info = movie_info.keys()\n",
    "print(key_info)\n",
    "\n",
    "#根据字典访问查找值\n",
    "#方法一 字典['key']\n",
    "score = movie_info['score']\n",
    "print(f'电影的评分是:{score}')\n",
    "#方法二 .get()方法 \n",
    "score = movie_info.get('score')\n",
    "print(f'电影的评分是:{score}')\n",
    "\n",
    "director = movie_info.get('dir')  #.get()不存在则返回None\n",
    "print(director)\n",
    "\n",
    "#用 in关键字 判断key是否在字典中\n",
    "if 'director' in  movie_info:\n",
    "    print('Yes')\n",
    "else :\n",
    "    print('No')"
   ]
  },
  {
   "cell_type": "code",
   "execution_count": 8,
   "id": "ace5b032-6cc9-4f77-9254-8b37b366d516",
   "metadata": {},
   "outputs": [
    {
     "name": "stdout",
     "output_type": "stream",
     "text": [
      "{'title': ['Forrest Gump', 'Zombieland', 'Zoom'], 'director': ['Robert Zemeckis', 'Ruben Fleischer', 'Peter Hewitt'], 'release_year': [1994, 2009, 2006]}\n",
      "------------------------------------------------------------------------------------------------------------------------------------------------------\n",
      "这是一个DataFrame:\n",
      "          title         director  release_year\n",
      "0  Forrest Gump  Robert Zemeckis          1994\n",
      "1    Zombieland  Ruben Fleischer          2009\n",
      "2          Zoom     Peter Hewitt          2006\n"
     ]
    }
   ],
   "source": [
    "#DataFrame的定义\n",
    "\n",
    "import pandas as pd\n",
    "\n",
    "# 1. 先定义一个“字典 of 列表”\n",
    "data_for_df = {\n",
    "    \"title\": [\"Forrest Gump\", \"Zombieland\", \"Zoom\"], # 这是一个列表\n",
    "    \"director\": [\"Robert Zemeckis\", \"Ruben Fleischer\", \"Peter Hewitt\"], # 这是另一个列表\n",
    "    \"release_year\": [1994, 2009, 2006] # 这是第三个列表\n",
    "}\n",
    "\n",
    "# 2. 把这个字典传给 pd.DataFrame() 函数\n",
    "movies_df = pd.DataFrame(data_for_df)\n",
    "\n",
    "print(data_for_df)\n",
    "print('---'*50)\n",
    "print(\"这是一个DataFrame:\")\n",
    "print(movies_df)"
   ]
  },
  {
   "cell_type": "code",
   "execution_count": null,
   "id": "29c49699-e46a-4525-a234-024cda465dea",
   "metadata": {},
   "outputs": [],
   "source": []
  }
 ],
 "metadata": {
  "kernelspec": {
   "display_name": "Python 3 (ipykernel)",
   "language": "python",
   "name": "python3"
  },
  "language_info": {
   "codemirror_mode": {
    "name": "ipython",
    "version": 3
   },
   "file_extension": ".py",
   "mimetype": "text/x-python",
   "name": "python",
   "nbconvert_exporter": "python",
   "pygments_lexer": "ipython3",
   "version": "3.12.7"
  }
 },
 "nbformat": 4,
 "nbformat_minor": 5
}
