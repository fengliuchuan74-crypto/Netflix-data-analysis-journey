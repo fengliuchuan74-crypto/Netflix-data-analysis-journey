{
 "cells": [
  {
   "cell_type": "code",
   "execution_count": 8,
   "id": "8e95db40-dc78-4877-9681-aa132cb91564",
   "metadata": {},
   "outputs": [
    {
     "name": "stdout",
     "output_type": "stream",
     "text": [
      "《Forrest Gump》的类型是: <class 'str'>\n",
      "1994 的类型是: <class 'int'>\n",
      "[8.8, 9.0, 8.5, 8.8] 的类型是: <class 'list'>\n",
      "{'title': 'Forrest Gump', 'year': 1994} 的类型是: <class 'dict'>\n",
      "我最喜欢的电影是《Forrest Gump》。\n",
      "\n",
      "====================\n",
      "\n",
      "Forrest Gump 是一部经典老电影。\n",
      "\n",
      "====================\n",
      "\n",
      "Forrest Gump 的部分评分如下:\n",
      "8.8\n",
      "9.0\n",
      "8.5\n",
      "8.8\n",
      "\n",
      "====================\n",
      "\n",
      "开始数数:\n",
      "1\n",
      "2\n",
      "3\n",
      "4\n",
      "5\n"
     ]
    }
   ],
   "source": [
    "# --- 变量与数据类型 ---\n",
    "# 我们可以把数字、文字等任何信息，用一个名字（变量）存起来，方便以后使用。\n",
    "movie_title = \"Forrest Gump\"  #字符串要加\"\"\n",
    "release_year = 1994\n",
    "rating_scores = [8.8, 9.0, 8.5,8.8]  \n",
    "movie_info = {\"title\": \"Forrest Gump\", \"year\": 1994}\n",
    "\n",
    "# Python很聪明，会自动识别它们的类型\n",
    "print(f\"《{movie_title}》的类型是: {type(movie_title)}\")  # str 代表字符串（文字）\n",
    "print(f\"{release_year} 的类型是: {type(release_year)}\")    # int 代表整数\n",
    "print(f\"{rating_scores} 的类型是: {type(rating_scores)}\") # list 代表列表（一串数据）\n",
    "print(f\"{movie_info} 的类型是: {type(movie_info)}\")      # dict 代表字典（键值对数据）\n",
    "print(f\"我最喜欢的电影是《{movie_title}》。\")\n",
    "\n",
    "print(\"\\n\" + \"=\"*20 + \"\\n\") # 加个分割线，让输出更清晰\n",
    "# --- 条件判断 ---\n",
    "# 让程序根据情况做不同的事，比如判断一部电影是不是经典老片\n",
    "if release_year > 2000:\n",
    "    print(f\"{movie_title} 是一部比较新的电影。\")\n",
    "else:\n",
    "    print(f\"{movie_title} 是一部经典老电影。\")\n",
    "    \n",
    "print(\"\\n\" + \"=\"*20 + \"\\n\")\n",
    "\n",
    "# --- 循环 ---\n",
    "# 让程序重复做事，比如打印出所有的评分(在列表中的)\n",
    "print(f\"{movie_title} 的部分评分如下:\")\n",
    "for score in rating_scores: #python中循环变量不需要提前定义 在循环开始后就已经已经自动创建循环变量了.\n",
    "    print(score)\n",
    "\n",
    "print(\"\\n\" + \"=\"*20 + \"\\n\")\n",
    "\n",
    "print(\"开始数数:\")\n",
    "for i in range(1, 6):\n",
    "    print(i)"
   ]
  },
  {
   "cell_type": "code",
   "execution_count": null,
   "id": "f63b1f0b-521c-4077-98ed-f427bb18b65d",
   "metadata": {},
   "outputs": [
    {
     "name": "stdout",
     "output_type": "stream",
     "text": [
      "✅ 数据已成功加载！\n"
     ]
    }
   ],
   "source": [
    "#The first step to deal with dataSet（Netflix Movie）\n",
    "\n",
    "# 首先，我们需要“召唤”Pandas这个工具库，并给它起个简称叫 pd，这是所有数据分析师的惯例。\n",
    "import pandas as pd\n",
    "\n",
    "# 1. 读取数据\n",
    "# 我们使用 pd.read_csv() 函数，它会把CSV文件读成一个我们称为 DataFrame 的东西。\n",
    "# DataFrame 就是Pandas里的“Excel表格”。\n",
    "\n",
    "df = pd.read_csv(r\"netflix_titles.csv\")\n",
    "# “r” 叫做“原始字符串（raw string）”，用于路径前面时，告诉Python：不要对字符串里的反斜杠“\\”做转义处理。\n",
    "# 比如 Windows 路径常常有 \"\\User\\xxx\"，如果不用 r，\"\\U\" 可能会被当成特殊字符，会报错或者路径识别出错。\n",
    "# 举例：\n",
    "# 普通字符串：\"C:\\n\" 实际表示的是 \"C:\" 和换行符（\\n），会出错。\n",
    "# 原始字符串：r\"C:\\n\" 就真的是指向 C 盘下的 n 文件夹。\n",
    "# 所以加 r 是为了保证路径不出错，尤其在 Windows 系统下读取文件时很常用。\n",
    "\n",
    "\n",
    "#有关“相对路径”\n",
    "#文件和代码在同一目录 -> 直接用 文件名 (\"data.csv\")->如netflix_titles.csv\n",
    "#文件在代码所在目录的子文件夹 data 里 -> 用 文件夹名/文件名 (\"data/data.csv\")\n",
    "\n",
    "#绝对路径：D:\\Github\\Repository\\Netflix-data-analysis-journey/netflix_titles.csv\n",
    "\n",
    "\n",
    "print(\"✅ 数据已成功加载！\")  #r如果没有读取成功在前面就会报错 不会到打印这一步"
   ]
  },
  {
   "cell_type": "code",
   "execution_count": 10,
   "id": "533aac34-0f36-4a2b-a427-9f24cd53ab2f",
   "metadata": {},
   "outputs": [
    {
     "data": {
      "text/html": [
       "<div>\n",
       "<style scoped>\n",
       "    .dataframe tbody tr th:only-of-type {\n",
       "        vertical-align: middle;\n",
       "    }\n",
       "\n",
       "    .dataframe tbody tr th {\n",
       "        vertical-align: top;\n",
       "    }\n",
       "\n",
       "    .dataframe thead th {\n",
       "        text-align: right;\n",
       "    }\n",
       "</style>\n",
       "<table border=\"1\" class=\"dataframe\">\n",
       "  <thead>\n",
       "    <tr style=\"text-align: right;\">\n",
       "      <th></th>\n",
       "      <th>show_id</th>\n",
       "      <th>type</th>\n",
       "      <th>title</th>\n",
       "      <th>director</th>\n",
       "      <th>cast</th>\n",
       "      <th>country</th>\n",
       "      <th>date_added</th>\n",
       "      <th>release_year</th>\n",
       "      <th>rating</th>\n",
       "      <th>duration</th>\n",
       "      <th>listed_in</th>\n",
       "      <th>description</th>\n",
       "    </tr>\n",
       "  </thead>\n",
       "  <tbody>\n",
       "    <tr>\n",
       "      <th>0</th>\n",
       "      <td>s1</td>\n",
       "      <td>Movie</td>\n",
       "      <td>Dick Johnson Is Dead</td>\n",
       "      <td>Kirsten Johnson</td>\n",
       "      <td>NaN</td>\n",
       "      <td>United States</td>\n",
       "      <td>September 25, 2021</td>\n",
       "      <td>2020</td>\n",
       "      <td>PG-13</td>\n",
       "      <td>90 min</td>\n",
       "      <td>Documentaries</td>\n",
       "      <td>As her father nears the end of his life, filmm...</td>\n",
       "    </tr>\n",
       "    <tr>\n",
       "      <th>1</th>\n",
       "      <td>s2</td>\n",
       "      <td>TV Show</td>\n",
       "      <td>Blood &amp; Water</td>\n",
       "      <td>NaN</td>\n",
       "      <td>Ama Qamata, Khosi Ngema, Gail Mabalane, Thaban...</td>\n",
       "      <td>South Africa</td>\n",
       "      <td>September 24, 2021</td>\n",
       "      <td>2021</td>\n",
       "      <td>TV-MA</td>\n",
       "      <td>2 Seasons</td>\n",
       "      <td>International TV Shows, TV Dramas, TV Mysteries</td>\n",
       "      <td>After crossing paths at a party, a Cape Town t...</td>\n",
       "    </tr>\n",
       "    <tr>\n",
       "      <th>2</th>\n",
       "      <td>s3</td>\n",
       "      <td>TV Show</td>\n",
       "      <td>Ganglands</td>\n",
       "      <td>Julien Leclercq</td>\n",
       "      <td>Sami Bouajila, Tracy Gotoas, Samuel Jouy, Nabi...</td>\n",
       "      <td>NaN</td>\n",
       "      <td>September 24, 2021</td>\n",
       "      <td>2021</td>\n",
       "      <td>TV-MA</td>\n",
       "      <td>1 Season</td>\n",
       "      <td>Crime TV Shows, International TV Shows, TV Act...</td>\n",
       "      <td>To protect his family from a powerful drug lor...</td>\n",
       "    </tr>\n",
       "    <tr>\n",
       "      <th>3</th>\n",
       "      <td>s4</td>\n",
       "      <td>TV Show</td>\n",
       "      <td>Jailbirds New Orleans</td>\n",
       "      <td>NaN</td>\n",
       "      <td>NaN</td>\n",
       "      <td>NaN</td>\n",
       "      <td>September 24, 2021</td>\n",
       "      <td>2021</td>\n",
       "      <td>TV-MA</td>\n",
       "      <td>1 Season</td>\n",
       "      <td>Docuseries, Reality TV</td>\n",
       "      <td>Feuds, flirtations and toilet talk go down amo...</td>\n",
       "    </tr>\n",
       "    <tr>\n",
       "      <th>4</th>\n",
       "      <td>s5</td>\n",
       "      <td>TV Show</td>\n",
       "      <td>Kota Factory</td>\n",
       "      <td>NaN</td>\n",
       "      <td>Mayur More, Jitendra Kumar, Ranjan Raj, Alam K...</td>\n",
       "      <td>India</td>\n",
       "      <td>September 24, 2021</td>\n",
       "      <td>2021</td>\n",
       "      <td>TV-MA</td>\n",
       "      <td>2 Seasons</td>\n",
       "      <td>International TV Shows, Romantic TV Shows, TV ...</td>\n",
       "      <td>In a city of coaching centers known to train I...</td>\n",
       "    </tr>\n",
       "  </tbody>\n",
       "</table>\n",
       "</div>"
      ],
      "text/plain": [
       "  show_id     type                  title         director  \\\n",
       "0      s1    Movie   Dick Johnson Is Dead  Kirsten Johnson   \n",
       "1      s2  TV Show          Blood & Water              NaN   \n",
       "2      s3  TV Show              Ganglands  Julien Leclercq   \n",
       "3      s4  TV Show  Jailbirds New Orleans              NaN   \n",
       "4      s5  TV Show           Kota Factory              NaN   \n",
       "\n",
       "                                                cast        country  \\\n",
       "0                                                NaN  United States   \n",
       "1  Ama Qamata, Khosi Ngema, Gail Mabalane, Thaban...   South Africa   \n",
       "2  Sami Bouajila, Tracy Gotoas, Samuel Jouy, Nabi...            NaN   \n",
       "3                                                NaN            NaN   \n",
       "4  Mayur More, Jitendra Kumar, Ranjan Raj, Alam K...          India   \n",
       "\n",
       "           date_added  release_year rating   duration  \\\n",
       "0  September 25, 2021          2020  PG-13     90 min   \n",
       "1  September 24, 2021          2021  TV-MA  2 Seasons   \n",
       "2  September 24, 2021          2021  TV-MA   1 Season   \n",
       "3  September 24, 2021          2021  TV-MA   1 Season   \n",
       "4  September 24, 2021          2021  TV-MA  2 Seasons   \n",
       "\n",
       "                                           listed_in  \\\n",
       "0                                      Documentaries   \n",
       "1    International TV Shows, TV Dramas, TV Mysteries   \n",
       "2  Crime TV Shows, International TV Shows, TV Act...   \n",
       "3                             Docuseries, Reality TV   \n",
       "4  International TV Shows, Romantic TV Shows, TV ...   \n",
       "\n",
       "                                         description  \n",
       "0  As her father nears the end of his life, filmm...  \n",
       "1  After crossing paths at a party, a Cape Town t...  \n",
       "2  To protect his family from a powerful drug lor...  \n",
       "3  Feuds, flirtations and toilet talk go down amo...  \n",
       "4  In a city of coaching centers known to train I...  "
      ]
     },
     "execution_count": 10,
     "metadata": {},
     "output_type": "execute_result"
    }
   ],
   "source": [
    "# 查看数据的前5行\n",
    "df.head()"
   ]
  },
  {
   "cell_type": "code",
   "execution_count": 11,
   "id": "16184a0d-80f2-45e0-9a83-146f9b733cc7",
   "metadata": {},
   "outputs": [
    {
     "name": "stdout",
     "output_type": "stream",
     "text": [
      "(8807, 12)\n"
     ]
    },
    {
     "data": {
      "text/plain": [
       "(8807, 12)"
      ]
     },
     "execution_count": 11,
     "metadata": {},
     "output_type": "execute_result"
    }
   ],
   "source": [
    "# 查看数据的行数和列数   #先行后列\n",
    "print (df.shape)\n",
    "\n",
    "df.shape\n",
    "#df.shape 是一个 属性 (attribute)，->元组（turple（）不可变-存储固定的数据集（如坐标、数据库记录   *列表 [] 可变可编辑,存储需要修改的数据集-如购物清单、动态数组\n",
    " #而不是一个方法或函数。\n",
    "#在 Python 交互式环境（比如标准的 Python shell、IPython 或 Jupyter Notebooks）中，\n",
    "#当你输入一个表达式（比如 df.shape）并按下回车键时，该环境会自动计算这个表达式的值，并将其显示出来。"
   ]
  },
  {
   "cell_type": "code",
   "execution_count": 12,
   "id": "e0dc854d-94d2-43e6-b3e1-7c16b9be2d35",
   "metadata": {
    "scrolled": true
   },
   "outputs": [
    {
     "name": "stdout",
     "output_type": "stream",
     "text": [
      "<class 'pandas.core.frame.DataFrame'>\n",
      "RangeIndex: 8807 entries, 0 to 8806\n",
      "Data columns (total 12 columns):\n",
      " #   Column        Non-Null Count  Dtype \n",
      "---  ------        --------------  ----- \n",
      " 0   show_id       8807 non-null   object\n",
      " 1   type          8807 non-null   object\n",
      " 2   title         8807 non-null   object\n",
      " 3   director      6173 non-null   object\n",
      " 4   cast          7982 non-null   object\n",
      " 5   country       7976 non-null   object\n",
      " 6   date_added    8797 non-null   object\n",
      " 7   release_year  8807 non-null   int64 \n",
      " 8   rating        8803 non-null   object\n",
      " 9   duration      8804 non-null   object\n",
      " 10  listed_in     8807 non-null   object\n",
      " 11  description   8807 non-null   object\n",
      "dtypes: int64(1), object(11)\n",
      "memory usage: 825.8+ KB\n"
     ]
    }
   ],
   "source": [
    "# 查看详细列信息（有多少行多少列，列名，每一列有多少缺失值，每列的数据类别，最终的列的类别分类及数量）\n",
    "\n",
    "# df.info() 是一个非常重要的命令，它可以快速为您提供关于 DataFrame 结构、数据类型和内存使用的摘要。\n",
    "df.info()\n",
    "\n",
    "#RangeIndex 就是一个等差数列，通常从 0 开始，递增 1。它只存储三个数字：\n",
    "\n",
    "#起始 (Start): 索引开始的数字（默认为 0）。\n",
    "\n",
    "#停止 (Stop): 索引结束的数字（不包含该数字）。\n",
    "\n",
    "#步长 (Step): 每个索引值之间的间隔（默认为 1）。\n",
    "\n",
    "#<class 'pandas.core.frame.DataFrame'> 含义: 确认了 df 变量是一个 pandas DataFrame 对象。\n",
    "\n",
    "#展示每一列的非空(Non-null count)数目以及数据类型（Dtype）  object代表字符串-文本数据\n",
    "#明显看出3/4/5/6/8/9这六列中包含缺失值,并且导演这一列缺失了相当多(多达两千多行的信息缺失)\n",
    "\n"
   ]
  },
  {
   "cell_type": "code",
   "execution_count": 13,
   "id": "03e9d4a5-acb1-4584-9838-980f374ad0f1",
   "metadata": {},
   "outputs": [
    {
     "data": {
      "text/plain": [
       "type\n",
       "Movie      6131\n",
       "TV Show    2676\n",
       "Name: count, dtype: int64"
      ]
     },
     "execution_count": 13,
     "metadata": {},
     "output_type": "execute_result"
    }
   ],
   "source": [
    "#如何统计每一列中，不同值（类别）的数量\n",
    "\n",
    "# 例如：统计 'type' 这一列中，不同值（即类别）的数量\n",
    "df['type'].value_counts()\n",
    "\n",
    "#输出结果是一个 Series，展示了两个不同的类别及其对应的数量。Series 是操作单个特征（列）的基础。\n",
    "\n",
    "#Series（序列）是 pandas 库中一种非常基础且重要的数据结构，它是 DataFrame 的 基本构建块 之一。简单来说，Series 就是带标签的一维数组。\n",
    "\n",
    "#Series 的每个数据点都有一个相关的索引（index）。如本例输出的Movie和TV show\n",
    "\n",
    "#Name: count, dtype: int64: 这表示输出结果这个 Series 的名称是 count，数据类型是 64 位整数。"
   ]
  },
  {
   "cell_type": "code",
   "execution_count": 14,
   "id": "d80e0d0f-e7f3-4b71-9e2f-5be3984d448f",
   "metadata": {},
   "outputs": [
    {
     "data": {
      "text/plain": [
       "title\n",
       "Dick Johnson Is Dead     1\n",
       "Blood & Water            1\n",
       "Ganglands                1\n",
       "Jailbirds New Orleans    1\n",
       "Kota Factory             1\n",
       "                        ..\n",
       "Zodiac                   1\n",
       "Zombie Dumb              1\n",
       "Zombieland               1\n",
       "Zoom                     1\n",
       "Zubaan                   1\n",
       "Name: count, Length: 8807, dtype: int64"
      ]
     },
     "execution_count": 14,
     "metadata": {},
     "output_type": "execute_result"
    }
   ],
   "source": [
    "df['title'].value_counts()\n",
    "#title 列可以作为这个数据集的唯一标识符 因为每个值都只出现了一次"
   ]
  }
 ],
 "metadata": {
  "kernelspec": {
   "display_name": "Python 3",
   "language": "python",
   "name": "python3"
  },
  "language_info": {
   "codemirror_mode": {
    "name": "ipython",
    "version": 3
   },
   "file_extension": ".py",
   "mimetype": "text/x-python",
   "name": "python",
   "nbconvert_exporter": "python",
   "pygments_lexer": "ipython3",
   "version": "3.13.3"
  }
 },
 "nbformat": 4,
 "nbformat_minor": 5
}
